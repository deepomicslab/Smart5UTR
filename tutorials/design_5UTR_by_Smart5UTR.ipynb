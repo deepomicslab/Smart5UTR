{
 "cells": [
  {
   "cell_type": "markdown",
   "id": "662935eb",
   "metadata": {},
   "source": [
    "# Smart5UTR Sequence Optimization Tutorial\n",
    "\n",
    "In this tutorial, we will demonstrate how to use a pre-trained autoencoder model and the `optimize_sequences` function to optimize input sequences iteratively. We will first load the necessary modules, the autoencoder model, and the scaler. Then, we will extract a subset of data from our dataset to be used as example sequences for optimization."
   ]
  },
  {
   "cell_type": "code",
   "execution_count": 1,
   "id": "e7cb8c20",
   "metadata": {},
   "outputs": [],
   "source": [
    "## Use this setting when TensorFlow depends on a protobuf version that is not compatible with your currently installed protobuf version\n",
    "import os\n",
    "os.environ['PROTOCOL_BUFFERS_PYTHON_IMPLEMENTATION'] = 'python'"
   ]
  },
  {
   "cell_type": "code",
   "execution_count": 2,
   "id": "c398310f",
   "metadata": {},
   "outputs": [],
   "source": [
    "import sys\n",
    "sys.path.append(\"..\")\n",
    "from Smart5UTR.train import load_MTAE\n",
    "from Smart5UTR.optimization import optimize_sequences\n",
    "import pandas as pd"
   ]
  },
  {
   "cell_type": "markdown",
   "id": "63f135f8",
   "metadata": {},
   "source": [
    "## Load the Pre-trained Autoencoder Model\n",
    "\n",
    "We will load the pre-trained autoencoder model and the corresponding scaler using the `load_MTAE` function."
   ]
  },
  {
   "cell_type": "code",
   "execution_count": 3,
   "id": "a511fd5f",
   "metadata": {},
   "outputs": [],
   "source": [
    "autoencoder, scaler = load_MTAE(model_path=\"../models/Smart5UTR/Smart5UTR_egfp_m1pseudo2_Model.h5\",scaler_path=\"../models/egfp_m1pseudo2.scaler\")"
   ]
  },
  {
   "cell_type": "markdown",
   "id": "20d6235e",
   "metadata": {},
   "source": [
    "## Prepare Example Data\n",
    "\n",
    "Next, we will extract a subset of data from our dataset to be used as example sequences for optimization. We will filter the data from the given dataset based on the desired initial mrl value (init_rl) and then randomly select a specified number of sequences (nbr_sequences) for optimization."
   ]
  },
  {
   "cell_type": "code",
   "execution_count": 4,
   "id": "2547fdc9",
   "metadata": {},
   "outputs": [],
   "source": [
    "init_rl = 5\n",
    "nbr_sequences = 5\n",
    "iterations = 20\n",
    "coef = 1.25\n",
    "\n",
    "# Get prototypical sequences\n",
    "df = pd.read_csv('../data/GSM3130440_egfp_m1pseudo_2.csv')\n",
    "df.sort_values('total', inplace=True, ascending=False)\n",
    "df.reset_index(inplace=True, drop=True)\n",
    "df = df.iloc[:20000]  # select data from the hold-out test dataset\n",
    "\n",
    "df = df.loc[(df['rl'] < init_rl + 0.5) & (df['rl'] > init_rl - 0.5)]\n",
    "df = df.loc[~df['utr'].str.contains('TAG|TGA|TAA|ATG')]    ## Avoid including termination codons, optional\n",
    "df = df.sample(frac=1, random_state=123).reset_index(drop=True).iloc[:nbr_sequences]  # Randomly select sequences\n",
    "\n",
    "p_seqs = df['utr'].to_list()"
   ]
  },
  {
   "cell_type": "code",
   "execution_count": 5,
   "id": "29b4af4d",
   "metadata": {},
   "outputs": [
    {
     "data": {
      "text/plain": [
       "['GGAGCCGAGGCGGGCCGATTCACGATCGGTTCGCAAAAACTGTTTGGGTT',\n",
       " 'AAGAGATCGCTCGTACCTCTGGCTGCTCGGCCCGCCCAAGGGGGAGGTTA',\n",
       " 'CACAGCCTCCGACCAAATATCGGCCTCCCCGATACACGGTCCGAAACACC',\n",
       " 'CCCTGGGAGGAGCACCCGTGGTTCCGAGCTTTCGGAGCCCGTTCTCGGCA',\n",
       " 'TGTTCTGGCGTCCCCACGCCGTTTTCAATTGGGACCGGGCGGGGGGACTC']"
      ]
     },
     "execution_count": 5,
     "metadata": {},
     "output_type": "execute_result"
    }
   ],
   "source": [
    "p_seqs"
   ]
  },
  {
   "cell_type": "markdown",
   "id": "1c55d452",
   "metadata": {},
   "source": [
    "## Optimize 5' UTR Sequences\n",
    "\n",
    "Finally, we will use the `optimize_sequences` function to iteratively optimize the example sequences with the pre-trained autoencoder model and the scaler. The optimized sequences and their output values will be returned as a dictionary."
   ]
  },
  {
   "cell_type": "code",
   "execution_count": 6,
   "id": "4be37aba",
   "metadata": {},
   "outputs": [
    {
     "name": "stdout",
     "output_type": "stream",
     "text": [
      "%%% generating new UTR seqs by autoencoder ... %%% \n",
      "Processing optimization for seq No. 0\n",
      "Processing optimization for seq No. 1\n",
      "Processing optimization for seq No. 2\n",
      "Processing optimization for seq No. 3\n",
      "Processing optimization for seq No. 4\n"
     ]
    }
   ],
   "source": [
    "optimized_seqs = optimize_sequences(autoencoder, scaler, p_seqs, iterations, coef)"
   ]
  },
  {
   "cell_type": "code",
   "execution_count": 10,
   "id": "a882519c",
   "metadata": {},
   "outputs": [
    {
     "data": {
      "text/html": [
       "<div>\n",
       "<style scoped>\n",
       "    .dataframe tbody tr th:only-of-type {\n",
       "        vertical-align: middle;\n",
       "    }\n",
       "\n",
       "    .dataframe tbody tr th {\n",
       "        vertical-align: top;\n",
       "    }\n",
       "\n",
       "    .dataframe thead th {\n",
       "        text-align: right;\n",
       "    }\n",
       "</style>\n",
       "<table border=\"1\" class=\"dataframe\">\n",
       "  <thead>\n",
       "    <tr style=\"text-align: right;\">\n",
       "      <th></th>\n",
       "      <th>Original Sequence</th>\n",
       "      <th>Experimental MRL</th>\n",
       "      <th>Optimized Sequence</th>\n",
       "      <th>Iterations</th>\n",
       "      <th>Optimized MRL</th>\n",
       "    </tr>\n",
       "  </thead>\n",
       "  <tbody>\n",
       "    <tr>\n",
       "      <th>0</th>\n",
       "      <td>GGAGCCGAGGCGGGCCGATTCACGATCGGTTCGCAAAAACTGTTTG...</td>\n",
       "      <td>5.464849</td>\n",
       "      <td>CCCAGCTAAACATACCGACGAACGCGAGCGCGGCAACAAAAGGCAC...</td>\n",
       "      <td>20</td>\n",
       "      <td>7.157289</td>\n",
       "    </tr>\n",
       "    <tr>\n",
       "      <th>1</th>\n",
       "      <td>AAGAGATCGCTCGTACCTCTGGCTGCTCGGCCCGCCCAAGGGGGAG...</td>\n",
       "      <td>4.872592</td>\n",
       "      <td>CGAAAATCGACATCACCCCAGGCCGCACTAAGCGAGCAACGGCAAA...</td>\n",
       "      <td>20</td>\n",
       "      <td>7.091981</td>\n",
       "    </tr>\n",
       "    <tr>\n",
       "      <th>2</th>\n",
       "      <td>CACAGCCTCCGACCAAATATCGGCCTCCCCGATACACGGTCCGAAA...</td>\n",
       "      <td>5.385016</td>\n",
       "      <td>CCGAACCGACGAACAAACATCGGGTAACGCAACAAACGGCAAATAA...</td>\n",
       "      <td>20</td>\n",
       "      <td>7.293249</td>\n",
       "    </tr>\n",
       "    <tr>\n",
       "      <th>3</th>\n",
       "      <td>CCCTGGGAGGAGCACCCGTGGTTCCGAGCTTTCGGAGCCCGTTCTC...</td>\n",
       "      <td>4.764144</td>\n",
       "      <td>CCGAGGAACGCATAACCATTTCCGGGAGAAAACGAAAACCGGCAAC...</td>\n",
       "      <td>20</td>\n",
       "      <td>7.327154</td>\n",
       "    </tr>\n",
       "    <tr>\n",
       "      <th>4</th>\n",
       "      <td>TGTTCTGGCGTCCCCACGCCGTTTTCAATTGGGACCGGGCGGGGGG...</td>\n",
       "      <td>4.541630</td>\n",
       "      <td>CCCACATCCACCACTAGGCAGCAACCAAACGCATTCGGGCGGGCAA...</td>\n",
       "      <td>20</td>\n",
       "      <td>7.007205</td>\n",
       "    </tr>\n",
       "  </tbody>\n",
       "</table>\n",
       "</div>"
      ],
      "text/plain": [
       "                                   Original Sequence  Experimental MRL  \\\n",
       "0  GGAGCCGAGGCGGGCCGATTCACGATCGGTTCGCAAAAACTGTTTG...          5.464849   \n",
       "1  AAGAGATCGCTCGTACCTCTGGCTGCTCGGCCCGCCCAAGGGGGAG...          4.872592   \n",
       "2  CACAGCCTCCGACCAAATATCGGCCTCCCCGATACACGGTCCGAAA...          5.385016   \n",
       "3  CCCTGGGAGGAGCACCCGTGGTTCCGAGCTTTCGGAGCCCGTTCTC...          4.764144   \n",
       "4  TGTTCTGGCGTCCCCACGCCGTTTTCAATTGGGACCGGGCGGGGGG...          4.541630   \n",
       "\n",
       "                                  Optimized Sequence  Iterations  \\\n",
       "0  CCCAGCTAAACATACCGACGAACGCGAGCGCGGCAACAAAAGGCAC...          20   \n",
       "1  CGAAAATCGACATCACCCCAGGCCGCACTAAGCGAGCAACGGCAAA...          20   \n",
       "2  CCGAACCGACGAACAAACATCGGGTAACGCAACAAACGGCAAATAA...          20   \n",
       "3  CCGAGGAACGCATAACCATTTCCGGGAGAAAACGAAAACCGGCAAC...          20   \n",
       "4  CCCACATCCACCACTAGGCAGCAACCAAACGCATTCGGGCGGGCAA...          20   \n",
       "\n",
       "   Optimized MRL  \n",
       "0       7.157289  \n",
       "1       7.091981  \n",
       "2       7.293249  \n",
       "3       7.327154  \n",
       "4       7.007205  "
      ]
     },
     "execution_count": 10,
     "metadata": {},
     "output_type": "execute_result"
    }
   ],
   "source": [
    "# Extract the relevant information\n",
    "original_seqs = p_seqs\n",
    "experimental_mrl = df['rl'].to_list()\n",
    "optimized_seqs_list = [seq_info[-1][0].upper() for seq_info in optimized_seqs.values()]\n",
    "final_predicted_mrl = [seq_info[-1][1] for seq_info in optimized_seqs.values()]\n",
    "iterations_list = [iterations] * nbr_sequences\n",
    "\n",
    "# Construct the DataFrame to show the result\n",
    "results_df = pd.DataFrame({\n",
    "    'Original Sequence': original_seqs,\n",
    "    'Experimental MRL': experimental_mrl,\n",
    "    'Optimized Sequence': optimized_seqs_list,\n",
    "    'Iterations': iterations_list,\n",
    "    'Optimized MRL': final_predicted_mrl\n",
    "})\n",
    "\n",
    "results_df"
   ]
  },
  {
   "cell_type": "markdown",
   "id": "ea7d7257",
   "metadata": {},
   "source": [
    "## Customization and Further Exploration\n",
    "To customize the optimization process or explore different design requirements, you can try modifying the parameters below or even modify the package's functions (Smart5UTR/optimization.py) if necessary:\n",
    "\n",
    "- init_rl: The initial ribosome load\n",
    "\n",
    "- nbr_sequences: Number of sequences to generate\n",
    "\n",
    "- iterations: Number of optimization iterations\n",
    "\n",
    "- coef: optimization coefficient\n",
    "\n",
    "You can also try using novel sequences outside of the tutorial's provided database. Here's an example of generating a random 50nt sequence and using the autoencoder's encoder function to predict the initial MRL value when no experimental MRL value is available:"
   ]
  },
  {
   "cell_type": "code",
   "execution_count": 11,
   "id": "77dca9cf",
   "metadata": {},
   "outputs": [],
   "source": [
    "import random\n",
    "\n",
    "def make_random_sequences(nbr_sequences, length, constant='', no_uaug=False, no_stop=False):\n",
    "    # Make randomized sequences, allowing for the inclusion / exclusion of uATGs / stop codons\n",
    "    seqs = []\n",
    "    nucs = {0: 'A', 1: 'T', 2: 'C', 3: 'G'}\n",
    "    i = 0\n",
    "    while i < nbr_sequences:\n",
    "        new_seq = ''\n",
    "        for n in range(length - len(constant)):\n",
    "            new_seq = new_seq + nucs[random.randint(0, 3)]\n",
    "        if no_uaug == False or (no_uaug == True and 'ATG' not in new_seq):\n",
    "            if no_stop == False or (\n",
    "                no_stop == True and ('TAG' not in new_seq and 'TGA' not in new_seq and 'TAA' not in new_seq)):\n",
    "                new_seq = new_seq + constant\n",
    "                seqs.append(new_seq)\n",
    "                i += 1\n",
    "    return seqs\n",
    "\n"
   ]
  },
  {
   "cell_type": "code",
   "execution_count": 12,
   "id": "95d5f143",
   "metadata": {},
   "outputs": [],
   "source": [
    "seq_len = 50\n",
    "rand_seqs = make_random_sequences(nbr_sequences, seq_len, no_uaug=True, no_stop=False)"
   ]
  },
  {
   "cell_type": "code",
   "execution_count": 13,
   "id": "7661d122",
   "metadata": {},
   "outputs": [
    {
     "data": {
      "text/plain": [
       "['CACTTGGTTACTATACACACGAGTAAGGTCAGCGGCATCAGACCGGCTGC',\n",
       " 'GGTCACCTGGGCTGGAGCTGGTAGCAGCGAGAAACCTAAGCCAGGTCTGA',\n",
       " 'CTTTTAGAGCCCTCCGCCGCATTCTTGCAGCAAGGGAGACAGGCTAGTGT',\n",
       " 'TTCGCGAGCGCCCTTTTGTCGCGTGAGCCCTTCACCTTATACCCACCCTG',\n",
       " 'CGCGGATCAATATTTAAAGCTACAAAGGACTCCTAGATAAGACATTACAC']"
      ]
     },
     "execution_count": 13,
     "metadata": {},
     "output_type": "execute_result"
    }
   ],
   "source": [
    "rand_seqs"
   ]
  },
  {
   "cell_type": "code",
   "execution_count": null,
   "id": "d10209f6",
   "metadata": {},
   "outputs": [],
   "source": []
  }
 ],
 "metadata": {
  "kernelspec": {
   "display_name": "Python 3 (ipykernel)",
   "language": "python",
   "name": "python3"
  },
  "language_info": {
   "codemirror_mode": {
    "name": "ipython",
    "version": 3
   },
   "file_extension": ".py",
   "mimetype": "text/x-python",
   "name": "python",
   "nbconvert_exporter": "python",
   "pygments_lexer": "ipython3",
   "version": "3.8.8"
  }
 },
 "nbformat": 4,
 "nbformat_minor": 5
}
