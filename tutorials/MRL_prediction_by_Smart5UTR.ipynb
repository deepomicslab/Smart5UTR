{
 "cells": [
  {
   "cell_type": "markdown",
   "id": "c58990e2",
   "metadata": {},
   "source": [
    "# Using the Pre-trained Model to Predict MRL Values for Sequences\n",
    "\n",
    "This tutorial will show you how to use the pre-trained model and the prediction function to predict the MRL values for a single sequence or multiple sequences in a CSV file.\n",
    "\n",
    "There are two strategies available for predicting MRL values using the `predict_seq` function: 'trim' and 'sliding_window'. \n",
    "\n",
    "1. 'trim': This strategy trims the input sequence to a fixed length (50nt) and directly predicts the MRL value based on the trimmed sequence.\n",
    "\n",
    "2. 'sliding_window': This strategy uses a sliding window approach to extract subsequences from the input sequence. The MRL value is predicted for each subsequence, and the final predicted MRL value is the average of all subsequence predictions. For sequences of length well beyond 50, we recommend this strategy.\n",
    "\n",
    "You can choose the strategy according to your specific requirements and the characteristics of your data. For sequences shorter than 50nt, we adopt a zero padding strategy to complete them with 0 on the right.\n"
   ]
  },
  {
   "cell_type": "code",
   "execution_count": 17,
   "id": "d1992b2e",
   "metadata": {},
   "outputs": [],
   "source": [
    "## Use this setting when TensorFlow depends on a protobuf version that is not compatible with your currently installed protobuf version\n",
    "import os\n",
    "os.environ['PROTOCOL_BUFFERS_PYTHON_IMPLEMENTATION'] = 'python'\n"
   ]
  },
  {
   "cell_type": "code",
   "execution_count": 18,
   "id": "e36ff1b8",
   "metadata": {},
   "outputs": [],
   "source": [
    "import sys\n",
    "sys.path.append(\"..\")\n",
    "from Smart5UTR.train import load_MTAE\n",
    "from Smart5UTR.dataloader import onehot_singleseq\n",
    "\n",
    "import pandas as pd\n",
    "import numpy as np\n"
   ]
  },
  {
   "cell_type": "code",
   "execution_count": 19,
   "id": "8d6604a5",
   "metadata": {},
   "outputs": [],
   "source": [
    "def predict_seq(seq, model, scaler, strategy='trim'):\n",
    "    \n",
    "    valid_bases = set('atcgATCG')\n",
    "    if not all(base in valid_bases for base in seq):\n",
    "        raise ValueError(\"Invalid sequence. The sequence must contain only A, T, C, and G (case-insensitive).\")\n",
    "        \n",
    "    if strategy == 'trim':\n",
    "        seq_mtx = onehot_singleseq(seq[:50])\n",
    "        pred_label = model.predict(seq_mtx)[1].reshape(-1)\n",
    "        pred_label = scaler.inverse_transform(pred_label)\n",
    "        return pred_label[0]\n",
    "    elif strategy == 'sliding_window':\n",
    "        window_size = 50\n",
    "        predictions = []\n",
    "        for i in range(len(seq) - window_size + 1):\n",
    "            window_seq = seq[i : i + window_size]\n",
    "            seq_mtx = onehot_singleseq(window_seq)\n",
    "            pred_label = model.predict(seq_mtx)[1].reshape(-1)\n",
    "            pred_label = scaler.inverse_transform(pred_label)\n",
    "            predictions.append(pred_label)\n",
    "        return np.mean(np.array(predictions), axis=0)[0]\n",
    "    else:\n",
    "        raise ValueError(\"Invalid strategy. Must be 'trim' or 'sliding_window'.\")"
   ]
  },
  {
   "cell_type": "code",
   "execution_count": 20,
   "id": "0d4f096a",
   "metadata": {},
   "outputs": [],
   "source": [
    "## Load trained smart5utr model  and scaler\n",
    "modelpath = \"../models/Smart5UTR/Smart5UTR_egfp_m1pseudo2_Model.h5\"\n",
    "scalerpath = \"../models/egfp_m1pseudo2.scaler\"\n",
    "\n",
    "model, scaler = load_MTAE(modelpath, scalerpath)\n"
   ]
  },
  {
   "cell_type": "markdown",
   "id": "8ae0c8b7",
   "metadata": {},
   "source": [
    "## Predicting MRL Value for a Single Sequence\n",
    "\n",
    "Here is an example of how to use the `predict_seq` function to predict the MRL value for a single sequence."
   ]
  },
  {
   "cell_type": "code",
   "execution_count": 22,
   "id": "54866783",
   "metadata": {},
   "outputs": [
    {
     "name": "stdout",
     "output_type": "stream",
     "text": [
      "predictive MRL =  5.9894896\n"
     ]
    }
   ],
   "source": [
    "seq = \"ACGTACGTACGTACGTACGTACGTACGTACGTACGTACGTACGTACGTACGTACGTACGTACGTACGTACGT\"\n",
    "strategy = 'sliding_window'  # or 'trim'\n",
    "\n",
    "pred_label = predict_seq(seq, model, scaler, strategy)\n",
    "\n",
    "print(\"predictive MRL = \", pred_label)"
   ]
  },
  {
   "cell_type": "markdown",
   "id": "c9b14f21",
   "metadata": {},
   "source": [
    "## Batch predicting for Sequences in a CSV File\n",
    "\n",
    "To predict MRL values for sequences in a CSV file, you can use the `pandas` library to read the CSV file, pass each sequence to the `predict_seq` function, add the predicted MRL values to a new column, and save the results to a new CSV file. Here is an example:"
   ]
  },
  {
   "cell_type": "code",
   "execution_count": 23,
   "id": "ef9cad6c",
   "metadata": {},
   "outputs": [
    {
     "data": {
      "text/html": [
       "<div>\n",
       "<style scoped>\n",
       "    .dataframe tbody tr th:only-of-type {\n",
       "        vertical-align: middle;\n",
       "    }\n",
       "\n",
       "    .dataframe tbody tr th {\n",
       "        vertical-align: top;\n",
       "    }\n",
       "\n",
       "    .dataframe thead th {\n",
       "        text-align: right;\n",
       "    }\n",
       "</style>\n",
       "<table border=\"1\" class=\"dataframe\">\n",
       "  <thead>\n",
       "    <tr style=\"text-align: right;\">\n",
       "      <th></th>\n",
       "      <th>name</th>\n",
       "      <th>utr</th>\n",
       "    </tr>\n",
       "  </thead>\n",
       "  <tbody>\n",
       "    <tr>\n",
       "      <th>0</th>\n",
       "      <td>1-INS-50AX2</td>\n",
       "      <td>GACTGAACAATTCAAACATTACAAACATTACTAACAAACCACTAAT...</td>\n",
       "    </tr>\n",
       "    <tr>\n",
       "      <th>1</th>\n",
       "      <td>2-INS-50AX2</td>\n",
       "      <td>GACACAAACTGAGAGACAAGAATTCAAGAGACGAACAAATAAAGAA...</td>\n",
       "    </tr>\n",
       "    <tr>\n",
       "      <th>2</th>\n",
       "      <td>3-INS-50AX2</td>\n",
       "      <td>GGATAATAACGGAAATAATAGAAGTGATAACTATTAAACTTAATAA...</td>\n",
       "    </tr>\n",
       "    <tr>\n",
       "      <th>3</th>\n",
       "      <td>4-INS-50AX2</td>\n",
       "      <td>GGCAAATAATAGAAATAATAATTATTAACACAATTAAACACAACGT...</td>\n",
       "    </tr>\n",
       "    <tr>\n",
       "      <th>4</th>\n",
       "      <td>5-INS-A50X2</td>\n",
       "      <td>AGGATTGCGGATATCATTATTATTGGAGAACCTTATTCGGGGGGGGCC</td>\n",
       "    </tr>\n",
       "    <tr>\n",
       "      <th>5</th>\n",
       "      <td>6-INS-A50X2</td>\n",
       "      <td>CCGGGAATTTGTTGTAGTGAGTTTTGTTTAAGAGTTTGATAGTAAG...</td>\n",
       "    </tr>\n",
       "    <tr>\n",
       "      <th>6</th>\n",
       "      <td>7-INS-A50X2</td>\n",
       "      <td>GCTGATTGTATTGCTCGTCTGTGATAACTCTAATAAACCTAGAAGG...</td>\n",
       "    </tr>\n",
       "    <tr>\n",
       "      <th>7</th>\n",
       "      <td>8-INSI-A50X2</td>\n",
       "      <td>TGTCGTGGATAAAGCTGACACCCAATTACTACGATTGTACAACGTA...</td>\n",
       "    </tr>\n",
       "  </tbody>\n",
       "</table>\n",
       "</div>"
      ],
      "text/plain": [
       "           name                                                utr\n",
       "0   1-INS-50AX2  GACTGAACAATTCAAACATTACAAACATTACTAACAAACCACTAAT...\n",
       "1   2-INS-50AX2  GACACAAACTGAGAGACAAGAATTCAAGAGACGAACAAATAAAGAA...\n",
       "2   3-INS-50AX2  GGATAATAACGGAAATAATAGAAGTGATAACTATTAAACTTAATAA...\n",
       "3   4-INS-50AX2  GGCAAATAATAGAAATAATAATTATTAACACAATTAAACACAACGT...\n",
       "4   5-INS-A50X2   AGGATTGCGGATATCATTATTATTGGAGAACCTTATTCGGGGGGGGCC\n",
       "5   6-INS-A50X2  CCGGGAATTTGTTGTAGTGAGTTTTGTTTAAGAGTTTGATAGTAAG...\n",
       "6   7-INS-A50X2  GCTGATTGTATTGCTCGTCTGTGATAACTCTAATAAACCTAGAAGG...\n",
       "7  8-INSI-A50X2  TGTCGTGGATAAAGCTGACACCCAATTACTACGATTGTACAACGTA..."
      ]
     },
     "execution_count": 23,
     "metadata": {},
     "output_type": "execute_result"
    }
   ],
   "source": [
    "## load example data \n",
    "testdata = pd.read_csv('../data/example_testUTRs.csv')\n",
    "\n",
    "testdata"
   ]
  },
  {
   "cell_type": "code",
   "execution_count": 26,
   "id": "2dd4b28b",
   "metadata": {},
   "outputs": [],
   "source": [
    "\n",
    "testdata['utr']\n",
    "\n",
    "# Use the prediction function to predict the MRL value for each sequence\n",
    "testdata['predictive MRL'] = testdata['utr'].apply(lambda x: predict_seq(x, model, scaler, 'trim'))\n"
   ]
  },
  {
   "cell_type": "code",
   "execution_count": 27,
   "id": "b4dec93c",
   "metadata": {},
   "outputs": [
    {
     "data": {
      "text/html": [
       "<div>\n",
       "<style scoped>\n",
       "    .dataframe tbody tr th:only-of-type {\n",
       "        vertical-align: middle;\n",
       "    }\n",
       "\n",
       "    .dataframe tbody tr th {\n",
       "        vertical-align: top;\n",
       "    }\n",
       "\n",
       "    .dataframe thead th {\n",
       "        text-align: right;\n",
       "    }\n",
       "</style>\n",
       "<table border=\"1\" class=\"dataframe\">\n",
       "  <thead>\n",
       "    <tr style=\"text-align: right;\">\n",
       "      <th></th>\n",
       "      <th>name</th>\n",
       "      <th>utr</th>\n",
       "      <th>predictive MRL</th>\n",
       "    </tr>\n",
       "  </thead>\n",
       "  <tbody>\n",
       "    <tr>\n",
       "      <th>0</th>\n",
       "      <td>1-INS-50AX2</td>\n",
       "      <td>GACTGAACAATTCAAACATTACAAACATTACTAACAAACCACTAAT...</td>\n",
       "      <td>7.692575</td>\n",
       "    </tr>\n",
       "    <tr>\n",
       "      <th>1</th>\n",
       "      <td>2-INS-50AX2</td>\n",
       "      <td>GACACAAACTGAGAGACAAGAATTCAAGAGACGAACAAATAAAGAA...</td>\n",
       "      <td>7.574220</td>\n",
       "    </tr>\n",
       "    <tr>\n",
       "      <th>2</th>\n",
       "      <td>3-INS-50AX2</td>\n",
       "      <td>GGATAATAACGGAAATAATAGAAGTGATAACTATTAAACTTAATAA...</td>\n",
       "      <td>7.536555</td>\n",
       "    </tr>\n",
       "    <tr>\n",
       "      <th>3</th>\n",
       "      <td>4-INS-50AX2</td>\n",
       "      <td>GGCAAATAATAGAAATAATAATTATTAACACAATTAAACACAACGT...</td>\n",
       "      <td>7.737344</td>\n",
       "    </tr>\n",
       "    <tr>\n",
       "      <th>4</th>\n",
       "      <td>5-INS-A50X2</td>\n",
       "      <td>AGGATTGCGGATATCATTATTATTGGAGAACCTTATTCGGGGGGGGCC</td>\n",
       "      <td>6.582365</td>\n",
       "    </tr>\n",
       "    <tr>\n",
       "      <th>5</th>\n",
       "      <td>6-INS-A50X2</td>\n",
       "      <td>CCGGGAATTTGTTGTAGTGAGTTTTGTTTAAGAGTTTGATAGTAAG...</td>\n",
       "      <td>6.918161</td>\n",
       "    </tr>\n",
       "    <tr>\n",
       "      <th>6</th>\n",
       "      <td>7-INS-A50X2</td>\n",
       "      <td>GCTGATTGTATTGCTCGTCTGTGATAACTCTAATAAACCTAGAAGG...</td>\n",
       "      <td>6.818514</td>\n",
       "    </tr>\n",
       "    <tr>\n",
       "      <th>7</th>\n",
       "      <td>8-INSI-A50X2</td>\n",
       "      <td>TGTCGTGGATAAAGCTGACACCCAATTACTACGATTGTACAACGTA...</td>\n",
       "      <td>5.411742</td>\n",
       "    </tr>\n",
       "  </tbody>\n",
       "</table>\n",
       "</div>"
      ],
      "text/plain": [
       "           name                                                utr  \\\n",
       "0   1-INS-50AX2  GACTGAACAATTCAAACATTACAAACATTACTAACAAACCACTAAT...   \n",
       "1   2-INS-50AX2  GACACAAACTGAGAGACAAGAATTCAAGAGACGAACAAATAAAGAA...   \n",
       "2   3-INS-50AX2  GGATAATAACGGAAATAATAGAAGTGATAACTATTAAACTTAATAA...   \n",
       "3   4-INS-50AX2  GGCAAATAATAGAAATAATAATTATTAACACAATTAAACACAACGT...   \n",
       "4   5-INS-A50X2   AGGATTGCGGATATCATTATTATTGGAGAACCTTATTCGGGGGGGGCC   \n",
       "5   6-INS-A50X2  CCGGGAATTTGTTGTAGTGAGTTTTGTTTAAGAGTTTGATAGTAAG...   \n",
       "6   7-INS-A50X2  GCTGATTGTATTGCTCGTCTGTGATAACTCTAATAAACCTAGAAGG...   \n",
       "7  8-INSI-A50X2  TGTCGTGGATAAAGCTGACACCCAATTACTACGATTGTACAACGTA...   \n",
       "\n",
       "   predictive MRL  \n",
       "0        7.692575  \n",
       "1        7.574220  \n",
       "2        7.536555  \n",
       "3        7.737344  \n",
       "4        6.582365  \n",
       "5        6.918161  \n",
       "6        6.818514  \n",
       "7        5.411742  "
      ]
     },
     "execution_count": 27,
     "metadata": {},
     "output_type": "execute_result"
    }
   ],
   "source": [
    "testdata"
   ]
  },
  {
   "cell_type": "code",
   "execution_count": 28,
   "id": "f3b9927b",
   "metadata": {},
   "outputs": [],
   "source": [
    "# Save the results to a new CSV file\n",
    "testdata.to_csv(\"../data/example_testUTRs_prediction.csv\", index=False)\n"
   ]
  },
  {
   "cell_type": "code",
   "execution_count": null,
   "id": "d92c4695",
   "metadata": {},
   "outputs": [],
   "source": []
  }
 ],
 "metadata": {
  "kernelspec": {
   "display_name": "Python 3 (ipykernel)",
   "language": "python",
   "name": "python3"
  },
  "language_info": {
   "codemirror_mode": {
    "name": "ipython",
    "version": 3
   },
   "file_extension": ".py",
   "mimetype": "text/x-python",
   "name": "python",
   "nbconvert_exporter": "python",
   "pygments_lexer": "ipython3",
   "version": "3.8.8"
  }
 },
 "nbformat": 4,
 "nbformat_minor": 5
}
