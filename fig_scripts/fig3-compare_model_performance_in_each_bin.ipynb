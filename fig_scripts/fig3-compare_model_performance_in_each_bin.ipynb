{
 "cells": [
  {
   "cell_type": "code",
   "execution_count": 1,
   "id": "e28c7468",
   "metadata": {},
   "outputs": [],
   "source": [
    "import joblib\n",
    "import pandas as pd\n",
    "import numpy as np\n",
    "import scipy.stats as stats\n",
    "import matplotlib.pyplot as plt\n",
    "from keras.metrics import mean_absolute_error\n",
    "from tensorflow import keras\n",
    "from keras import backend as K\n",
    "import tensorflow as tf\n",
    "gpus= tf.config.list_physical_devices('GPU')\n",
    "tf.config.experimental.set_memory_growth(gpus[0], True)"
   ]
  },
  {
   "cell_type": "code",
   "execution_count": 2,
   "id": "018fe1b2",
   "metadata": {},
   "outputs": [],
   "source": [
    "class RawData():\n",
    "    def __init__(self, fname, datasize=20000):\n",
    "        self.df = pd.read_csv(fname)\n",
    "        self.df = self.df.sort_values(by=['total'], ascending=False).reset_index(drop=True)\n",
    "        self.df = self.df.iloc[:datasize]\n",
    "        self.onehotmtx = onehot_coder(self.df, self.get_seqs())\n",
    "\n",
    "    def get_df(self):\n",
    "        return self.df\n",
    "\n",
    "    def get_seqs(self):\n",
    "        return self.df['utr']\n",
    "\n",
    "    def get_labels(self):\n",
    "        return self.df['rl']\n",
    "\n",
    "    def get_onehotmtxs(self):\n",
    "        return self.onehotmtx\n",
    "\n",
    "def onehot_coder(data, seqs):\n",
    "    inp_len = 50\n",
    "    nuc_d = {'a': [1, 0, 0, 0], 'c': [0, 1, 0, 0], 'g': [0, 0, 1, 0], 't': [0, 0, 0, 1]}\n",
    "\n",
    "    onehotmtx = np.empty([len(data), inp_len, 4])  ## initialize\n",
    "    for i in range(len(data)):\n",
    "        seq = seqs.iloc[i]\n",
    "        seq = seq.lower()\n",
    "        for n, x in enumerate(seq):\n",
    "            onehotmtx[i][n] = np.array(nuc_d[x])\n",
    "    return onehotmtx"
   ]
  },
  {
   "cell_type": "code",
   "execution_count": 3,
   "id": "0f1ad87f",
   "metadata": {},
   "outputs": [],
   "source": [
    "\n",
    "def r2(x, y):\n",
    "    slope, intercept, r_value, p_value, std_err = stats.linregress(x, y)\n",
    "    return r_value ** 2\n",
    "\n",
    "def weighted_squared_error(y_true, y_pred):\n",
    "\n",
    "    ltavg = y_true > 0\n",
    "\n",
    "    mse = K.square(y_pred - y_true)\n",
    "    weighted_mse = (1 + y_true) * K.square(y_pred - y_true)\n",
    "\n",
    "    return K.mean(tf.where(ltavg, weighted_mse, mse))\n",
    "\n",
    "\n",
    "losses = {\n",
    "    \"rl_output\": weighted_squared_error,\n",
    "    \"decoded_output\": 'categorical_crossentropy',\n",
    "}\n",
    "\n",
    "def check_datafreq(df):\n",
    "    ## check data distribution\n",
    "    print(\"### ===  MRL value distribution in testdata  === ###  datasize = \", len(df))\n",
    "    print(df['rl_cate'].value_counts().sort_index())\n",
    "    return 0\n",
    "\n"
   ]
  },
  {
   "cell_type": "code",
   "execution_count": 4,
   "id": "a9c1ec4f",
   "metadata": {},
   "outputs": [],
   "source": [
    "\n",
    "def metrics_subsets(model, scaler, df, dis_label, ae_flag=1):\n",
    "    ## calculate r-squared value for each rl Categories\n",
    "    r2_list = []\n",
    "    mae_list = []\n",
    "    all_y_true = []\n",
    "    all_y_pred = []\n",
    "    for cate in dis_label[:]:\n",
    "        sub_df = df.loc[df['rl_cate'] == cate]  ## 整行，34列\n",
    "        test_labels = sub_df['rl'].to_numpy().reshape(1, -1)\n",
    "        test_mtx = onehot_coder(sub_df, sub_df['utr'])\n",
    "        if (ae_flag==1):\n",
    "            pred_labels = model.predict(test_mtx)[1].reshape(1,-1)\n",
    "        else:\n",
    "            pred_labels = model.predict(test_mtx).reshape(1, -1)\n",
    "        pred_labels = scaler.inverse_transform(pred_labels)\n",
    "        y_ture = test_labels[0].astype(np.float32)\n",
    "        y_pred = pred_labels[0].astype(np.float32)\n",
    "        r = r2(y_ture, y_pred)\n",
    "        r2_list.append(r)\n",
    "        mae = mean_absolute_error(y_ture, y_pred)\n",
    "        mae_list.append(mae)\n",
    "\n",
    "        all_y_true = np.concatenate((all_y_true,y_ture),axis=0)\n",
    "        all_y_pred = np.concatenate((all_y_pred,y_pred),axis=0)\n",
    "\n",
    "    return r2_list, mae_list"
   ]
  },
  {
   "cell_type": "code",
   "execution_count": 5,
   "id": "1c5b6336",
   "metadata": {},
   "outputs": [],
   "source": [
    "\n",
    "## load test dataset\n",
    "test_df = RawData(\"../data/GSM3130440_egfp_m1pseudo_2.csv\", 20000).get_df()"
   ]
  },
  {
   "cell_type": "code",
   "execution_count": 6,
   "id": "836b3c3d",
   "metadata": {},
   "outputs": [
    {
     "name": "stdout",
     "output_type": "stream",
     "text": [
      "### ===  MRL value distribution in testdata  === ###  datasize =  20000\n",
      "[0, 2]       197\n",
      "(2, 3]      1171\n",
      "(3, 4]      1592\n",
      "(4, 5]      2090\n",
      "(5, 6]      4366\n",
      "(6, 6.5]    4859\n",
      "(6.5, 7]    4313\n",
      "(7, 8]      1412\n",
      "Name: rl_cate, dtype: int64\n"
     ]
    },
    {
     "data": {
      "text/plain": [
       "0"
      ]
     },
     "execution_count": 6,
     "metadata": {},
     "output_type": "execute_result"
    }
   ],
   "source": [
    "## divide test data into sub datasets\n",
    "rl_bin = [-1, 2, 3, 4, 5, 6, 6.5, 7, 8]  ## no data with rl more than 8\n",
    "dis_label = ['[0, 2]', '(2, 3]', '(3, 4]', '(4, 5]', '(5, 6] ','(6, 6.5]', '(6.5, 7]', '(7, 8]']\n",
    "\n",
    "## add categories\n",
    "test_df.insert(32, 'rl_cate', pd.cut(test_df['rl'], bins=rl_bin, labels=dis_label))\n",
    "check_datafreq(test_df)"
   ]
  },
  {
   "cell_type": "code",
   "execution_count": 7,
   "id": "278d6a67",
   "metadata": {},
   "outputs": [],
   "source": [
    "\n",
    "## load models\n",
    "ae_model = keras.models.load_model(\n",
    "    '../models/Smart5UTR/Smart5UTR_egfp_m1pseudo2_Model.h5',\n",
    "    compile=False)\n",
    "\n",
    "ae_model.compile(loss=losses,\n",
    "                    metrics={'rl_output': 'mse', 'decoded_output': 'accuracy'})\n",
    "scaler =joblib.load(\"../models/egfp_m1pseudo2.scaler\")\n",
    "\n",
    "opt_model = keras.models.load_model('../models/Optimus5-Prime/Optimus5_egfp_m1pseudo2_model_200k.h5')\n"
   ]
  },
  {
   "cell_type": "code",
   "execution_count": 8,
   "id": "9df21784",
   "metadata": {},
   "outputs": [],
   "source": [
    "ae_r2_list, ae_mae_list = metrics_subsets(ae_model , scaler, test_df, dis_label, ae_flag=1)\n",
    "opt_r2_list, opt_mae_list = metrics_subsets(opt_model, scaler, test_df, dis_label, ae_flag=0)"
   ]
  },
  {
   "cell_type": "code",
   "execution_count": 9,
   "id": "d4602940",
   "metadata": {},
   "outputs": [
    {
     "name": "stderr",
     "output_type": "stream",
     "text": [
      "C:\\Users\\FloretLi\\AppData\\Local\\Temp\\ipykernel_16644\\2826633073.py:17: UserWarning: FixedFormatter should only be used together with FixedLocator\n",
      "  ax1.set_yticklabels(np.arange(0, 6000, 1000), fontname=\"Arial\",fontweight=\"bold\")\n",
      "C:\\Users\\FloretLi\\AppData\\Local\\Temp\\ipykernel_16644\\2826633073.py:29: UserWarning: FixedFormatter should only be used together with FixedLocator\n",
      "  ax2.set_yticklabels(np.arange(0, 2.25, 0.25), fontname=\"Arial\",fontweight=\"bold\")\n"
     ]
    },
    {
     "data": {
      "image/png": "[encoded data removed]",
      "text/plain": [
       "<Figure size 360x360 with 2 Axes>"
      ]
     },
     "metadata": {
      "needs_background": "light"
     },
     "output_type": "display_data"
    }
   ],
   "source": [
    "### plot the results\n",
    "## plot data frequency in each subset\n",
    "fig = plt.figure()\n",
    "fig.set_size_inches((5, 5))\n",
    "\n",
    "# ax1 = plot_freq(test_df, dis_label, fig)\n",
    "\n",
    "fraq_list = test_df['rl_cate'].value_counts().loc[dis_label].to_list()\n",
    "\n",
    "# ax1 = fig.add_subplot(111)\n",
    "ax1=fig.add_axes([0.2,0.2,0.6,0.6])\n",
    "ax1.bar(range(len(fraq_list)), fraq_list, width=1, align='center', alpha=0.8, color = \"moccasin\" )## 'lightgreen')\n",
    "ax1.set_ylabel('UTR counts', fontname=\"Arial\",fontweight=\"bold\",fontsize=14, labelpad=3)\n",
    "ax1.set_xlim([-1, len(fraq_list)])\n",
    "ax1.set_xticks([i - 0.5 for i in range(len(fraq_list)+1)])\n",
    "ax1.set_ylim([0,5000])\n",
    "ax1.set_yticklabels(np.arange(0, 6000, 1000), fontname=\"Arial\",fontweight=\"bold\")\n",
    "\n",
    "ax1.set_xticklabels([\"0\", \"2\", \"3\", \"4\", \"5\", \"6\", \"6.5\", \"7\", \"8\"], fontname=\"Arial\",fontweight=\"bold\")\n",
    "\n",
    "ax1.set_title(\"Data distribution and predictive performance on test dataset\",fontname=\"Arial\",fontweight=\"bold\",fontsize=12, pad=10)\n",
    "\n",
    "\n",
    "ax2 = ax1.twinx()\n",
    "ax2.scatter(range(len(opt_mae_list)), opt_mae_list, color=\"b\", marker='o',alpha=0.6, label=\"Optimus5-Prime-MAE\")\n",
    "ax2.scatter(range(len(ae_mae_list)), ae_mae_list, color=\"r\", marker='o',alpha=0.6, label=\"smart5UTR-MAE\")\n",
    "ax2.set_ylabel('MAE', fontname=\"Arial\",fontweight=\"bold\",fontsize=14, labelpad=3)\n",
    "ax2.set_ylim([0, 2])\n",
    "ax2.set_yticklabels(np.arange(0, 2.25, 0.25), fontname=\"Arial\",fontweight=\"bold\")\n",
    "ax2.set_xlabel(\"MRL value\", fontname=\"Arial\",fontweight=\"bold\",fontsize=14, labelpad=3)\n",
    "\n",
    "\n",
    "# ## add text\n",
    "# for a, b in zip(range(len(ae_r2_list)),  ae_r2_list):\n",
    "#     plt.text(a, b + 0.05, '%.4f' % b, ha='center', va='bottom', fontsize=7)\n",
    "\n",
    "# for a, b in zip(range(len(ae_mae_list)),  ae_mae_list):\n",
    "#     plt.text(a, b + 0.05, '%.4f' % b, ha='center', va='bottom', fontsize=7)\n",
    "\n",
    "# plt.legend(loc='upper left')\n",
    "plt.show()"
   ]
  },
  {
   "cell_type": "code",
   "execution_count": 10,
   "id": "542cece1",
   "metadata": {},
   "outputs": [],
   "source": [
    "fig.savefig('../figs/fig2-performance-each-bin.png', dpi=300)"
   ]
  },
  {
   "cell_type": "code",
   "execution_count": null,
   "id": "a0ff81e9",
   "metadata": {},
   "outputs": [],
   "source": []
  }
 ],
 "metadata": {
  "kernelspec": {
   "display_name": "Python 3 (ipykernel)",
   "language": "python",
   "name": "python3"
  },
  "language_info": {
   "codemirror_mode": {
    "name": "ipython",
    "version": 3
   },
   "file_extension": ".py",
   "mimetype": "text/x-python",
   "name": "python",
   "nbconvert_exporter": "python",
   "pygments_lexer": "ipython3",
   "version": "3.8.6"
  }
 },
 "nbformat": 4,
 "nbformat_minor": 5
}
